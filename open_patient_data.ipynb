{
 "cells": [
  {
   "cell_type": "markdown",
   "metadata": {},
   "source": [
    "# Notebook to get all raw data from one single patient"
   ]
  },
  {
   "cell_type": "code",
   "execution_count": null,
   "metadata": {},
   "outputs": [],
   "source": [
    "# these lines only need to be run one time, if the packages are not already installed in your python environment\n",
    "# %pip install fastparquet\n",
    "# %pip install mne\n",
    "# %pip install pandas"
   ]
  },
  {
   "cell_type": "markdown",
   "metadata": {},
   "source": [
    "### Import useful packages"
   ]
  },
  {
   "cell_type": "code",
   "execution_count": null,
   "metadata": {},
   "outputs": [],
   "source": [
    "from utils_patient import Patient"
   ]
  },
  {
   "cell_type": "markdown",
   "metadata": {},
   "source": [
    "## 1. Patient \n",
    "\n",
    "### 1.1. Get directory\n",
    "\n",
    "All the data of a single patient needs to be contained in one folder with the patient id name (following the path structure in the OneDrive)\n",
    "\n",
    "- example: \"BD-SEER -> MSEL_01110 -> MSEL_01110_SeerAnnotations.csv \"\n",
    "- id = 'MSEL_01110'\n",
    "- dir = 'BD-SEER'"
   ]
  },
  {
   "cell_type": "code",
   "execution_count": null,
   "metadata": {},
   "outputs": [],
   "source": [
    "# id should be a string, the patient data should be inside a folder with the same name\n",
    "id = 'MSEL_01110' \n",
    "# dir can be \"\" if the id folder is inside the notebook directory, otherwise it should be the path to the folder \n",
    "dir = 'data'\n",
    "# patient class is created\n",
    "patient_class = Patient(id=id, dir=dir)\n",
    "    "
   ]
  },
  {
   "cell_type": "code",
   "execution_count": null,
   "metadata": {},
   "outputs": [],
   "source": [
    "# patient directory\n",
    "patient_class.pat_dir"
   ]
  },
  {
   "cell_type": "markdown",
   "metadata": {},
   "source": [
    "### 1.2. Get Annotations"
   ]
  },
  {
   "cell_type": "code",
   "execution_count": null,
   "metadata": {},
   "outputs": [],
   "source": [
    "# get patient annotations (they should return nothing since it starts empty)\n",
    "patient_class.annotations"
   ]
  },
  {
   "cell_type": "code",
   "execution_count": null,
   "metadata": {},
   "outputs": [],
   "source": [
    "# get patient annotations\n",
    "annotations = patient_class.get_seizures_annotations()\n",
    "annotations"
   ]
  },
  {
   "cell_type": "markdown",
   "metadata": {},
   "source": [
    "### 1.3 Get sensor data\n",
    "\n",
    "- get data from one sensor opening all files inside patient directory\n",
    "- data will be saved in a designated savedir, make sure to create the folder before sending the data there\n"
   ]
  },
  {
   "cell_type": "code",
   "execution_count": 14,
   "metadata": {},
   "outputs": [
    {
     "data": {
      "text/html": [
       "<div>\n",
       "<style scoped>\n",
       "    .dataframe tbody tr th:only-of-type {\n",
       "        vertical-align: middle;\n",
       "    }\n",
       "\n",
       "    .dataframe tbody tr th {\n",
       "        vertical-align: top;\n",
       "    }\n",
       "\n",
       "    .dataframe thead th {\n",
       "        text-align: right;\n",
       "    }\n",
       "</style>\n",
       "<table border=\"1\" class=\"dataframe\">\n",
       "  <thead>\n",
       "    <tr style=\"text-align: right;\">\n",
       "      <th></th>\n",
       "      <th>Acc x</th>\n",
       "      <th>Acc y</th>\n",
       "      <th>Acc z</th>\n",
       "      <th>Acc Mag</th>\n",
       "      <th>timestamp</th>\n",
       "    </tr>\n",
       "    <tr>\n",
       "      <th>index</th>\n",
       "      <th></th>\n",
       "      <th></th>\n",
       "      <th></th>\n",
       "      <th></th>\n",
       "      <th></th>\n",
       "    </tr>\n",
       "  </thead>\n",
       "  <tbody>\n",
       "    <tr>\n",
       "      <th>0</th>\n",
       "      <td>-32.993974</td>\n",
       "      <td>41.997057</td>\n",
       "      <td>-39.997563</td>\n",
       "      <td>65.724854</td>\n",
       "      <td>2019-06-06 14:46:22+00:00</td>\n",
       "    </tr>\n",
       "    <tr>\n",
       "      <th>1</th>\n",
       "      <td>-33.747915</td>\n",
       "      <td>42.243629</td>\n",
       "      <td>-39.494936</td>\n",
       "      <td>65.961943</td>\n",
       "      <td>2019-06-06 14:46:22.007812500+00:00</td>\n",
       "    </tr>\n",
       "    <tr>\n",
       "      <th>2</th>\n",
       "      <td>-34.497114</td>\n",
       "      <td>42.494942</td>\n",
       "      <td>-38.997050</td>\n",
       "      <td>66.208514</td>\n",
       "      <td>2019-06-06 14:46:22.015625+00:00</td>\n",
       "    </tr>\n",
       "    <tr>\n",
       "      <th>3</th>\n",
       "      <td>-35.246313</td>\n",
       "      <td>42.746256</td>\n",
       "      <td>-38.494423</td>\n",
       "      <td>66.469312</td>\n",
       "      <td>2019-06-06 14:46:22.023437500+00:00</td>\n",
       "    </tr>\n",
       "    <tr>\n",
       "      <th>4</th>\n",
       "      <td>-35.995512</td>\n",
       "      <td>42.997569</td>\n",
       "      <td>-37.996538</td>\n",
       "      <td>66.739592</td>\n",
       "      <td>2019-06-06 14:46:22.031250+00:00</td>\n",
       "    </tr>\n",
       "  </tbody>\n",
       "</table>\n",
       "</div>"
      ],
      "text/plain": [
       "           Acc x      Acc y      Acc z    Acc Mag  \\\n",
       "index                                               \n",
       "0     -32.993974  41.997057 -39.997563  65.724854   \n",
       "1     -33.747915  42.243629 -39.494936  65.961943   \n",
       "2     -34.497114  42.494942 -38.997050  66.208514   \n",
       "3     -35.246313  42.746256 -38.494423  66.469312   \n",
       "4     -35.995512  42.997569 -37.996538  66.739592   \n",
       "\n",
       "                                timestamp  \n",
       "index                                      \n",
       "0               2019-06-06 14:46:22+00:00  \n",
       "1     2019-06-06 14:46:22.007812500+00:00  \n",
       "2        2019-06-06 14:46:22.015625+00:00  \n",
       "3     2019-06-06 14:46:22.023437500+00:00  \n",
       "4        2019-06-06 14:46:22.031250+00:00  "
      ]
     },
     "execution_count": 14,
     "metadata": {},
     "output_type": "execute_result"
    }
   ],
   "source": [
    "sensor = 'acc'\n",
    "savedir = f'savedir/raw_data_{patient_class.id}_{sensor}.parquet'\n",
    "\n",
    "data = patient_class.get_sensor_data(sensor=sensor, savedir=savedir)\n",
    "\n",
    "data.head(5)"
   ]
  },
  {
   "cell_type": "code",
   "execution_count": 15,
   "metadata": {},
   "outputs": [
    {
     "data": {
      "text/html": [
       "<div>\n",
       "<style scoped>\n",
       "    .dataframe tbody tr th:only-of-type {\n",
       "        vertical-align: middle;\n",
       "    }\n",
       "\n",
       "    .dataframe tbody tr th {\n",
       "        vertical-align: top;\n",
       "    }\n",
       "\n",
       "    .dataframe thead th {\n",
       "        text-align: right;\n",
       "    }\n",
       "</style>\n",
       "<table border=\"1\" class=\"dataframe\">\n",
       "  <thead>\n",
       "    <tr style=\"text-align: right;\">\n",
       "      <th></th>\n",
       "      <th>HR</th>\n",
       "      <th>timestamp</th>\n",
       "    </tr>\n",
       "    <tr>\n",
       "      <th>index</th>\n",
       "      <th></th>\n",
       "      <th></th>\n",
       "    </tr>\n",
       "  </thead>\n",
       "  <tbody>\n",
       "    <tr>\n",
       "      <th>0</th>\n",
       "      <td>81.998909</td>\n",
       "      <td>2019-06-06 14:46:32+00:00</td>\n",
       "    </tr>\n",
       "    <tr>\n",
       "      <th>1</th>\n",
       "      <td>81.916660</td>\n",
       "      <td>2019-06-06 14:46:32.007812500+00:00</td>\n",
       "    </tr>\n",
       "    <tr>\n",
       "      <th>2</th>\n",
       "      <td>81.834410</td>\n",
       "      <td>2019-06-06 14:46:32.015625+00:00</td>\n",
       "    </tr>\n",
       "    <tr>\n",
       "      <th>3</th>\n",
       "      <td>81.752161</td>\n",
       "      <td>2019-06-06 14:46:32.023437500+00:00</td>\n",
       "    </tr>\n",
       "    <tr>\n",
       "      <th>4</th>\n",
       "      <td>81.671157</td>\n",
       "      <td>2019-06-06 14:46:32.031250+00:00</td>\n",
       "    </tr>\n",
       "  </tbody>\n",
       "</table>\n",
       "</div>"
      ],
      "text/plain": [
       "              HR                           timestamp\n",
       "index                                               \n",
       "0      81.998909           2019-06-06 14:46:32+00:00\n",
       "1      81.916660 2019-06-06 14:46:32.007812500+00:00\n",
       "2      81.834410    2019-06-06 14:46:32.015625+00:00\n",
       "3      81.752161 2019-06-06 14:46:32.023437500+00:00\n",
       "4      81.671157    2019-06-06 14:46:32.031250+00:00"
      ]
     },
     "execution_count": 15,
     "metadata": {},
     "output_type": "execute_result"
    }
   ],
   "source": [
    "sensor = 'hr'\n",
    "\n",
    "savedir = f'savedir/raw_data_{patient_class.id}_{sensor}.parquet'\n",
    "\n",
    "data = patient_class.get_sensor_data(sensor=sensor, savedir=savedir)\n",
    "\n",
    "data.head(5)"
   ]
  },
  {
   "cell_type": "code",
   "execution_count": null,
   "metadata": {},
   "outputs": [],
   "source": []
  }
 ],
 "metadata": {
  "kernelspec": {
   "display_name": ".venv",
   "language": "python",
   "name": "python3"
  },
  "language_info": {
   "codemirror_mode": {
    "name": "ipython",
    "version": 3
   },
   "file_extension": ".py",
   "mimetype": "text/x-python",
   "name": "python",
   "nbconvert_exporter": "python",
   "pygments_lexer": "ipython3",
   "version": "3.10.12"
  },
  "orig_nbformat": 4
 },
 "nbformat": 4,
 "nbformat_minor": 2
}
